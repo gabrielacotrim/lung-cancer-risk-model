{
  "cells": [
    {
      "cell_type": "code",
      "execution_count": 1,
      "metadata": {
        "id": "E-p0i4hIsMm1"
      },
      "outputs": [],
      "source": [
        "import os\n",
        "import pandas as pd\n",
        "import numpy as np\n",
        "import seaborn as sns\n",
        "from sklearn.model_selection import train_test_split, cross_val_score\n",
        "from sklearn.naive_bayes import BernoulliNB\n",
        "from sklearn.metrics import accuracy_score, classification_report\n",
        "import matplotlib.pyplot as plt\n",
        "import matplotlib.dates as mdates\n",
        "import matplotlib.colors as mcolors\n",
        "import matplotlib.ticker as mticker"
      ]
    },
    {
      "cell_type": "code",
      "execution_count": null,
      "metadata": {
        "id": "BkskluxlvCo1"
      },
      "outputs": [],
      "source": [
        "# Loading and preprocessing data\n",
        "df = pd.read_csv('lung-cancer/lung-cancer-dataset.csv')\n",
        "\n",
        "# Dropping missing values (if any)\n",
        "df.dropna(inplace=True)\n",
        "\n",
        "# Map categorical values\n",
        "df['GENDER'] = df['GENDER'].map({'M': 0, 'F': 1})\n",
        "df['LUNG_CANCER'] = df['LUNG_CANCER'].map({'YES': 1, 'NO': 0})\n",
        "\n",
        "# Separating features and target variable\n",
        "X = df.drop(columns=['LUNG_CANCER'])\n",
        "y = df['LUNG_CANCER']   # Convert the target variable to binary\n",
        "\n",
        "# Splitting the data into training and testing sets\n",
        "X_train, X_test, y_train, y_test = train_test_split(X, y, test_size=0.2, random_state=42)"
      ]
    },
    {
      "cell_type": "code",
      "execution_count": null,
      "metadata": {
        "id": "xTMB9o48K_nd"
      },
      "outputs": [],
      "source": [
        "# Fitting the model\n",
        "model = BernoulliNB()\n",
        "model.fit(X_train, y_train)"
      ]
    },
    {
      "cell_type": "code",
      "execution_count": null,
      "metadata": {
        "id": "DuNyqCx8LNKC"
      },
      "outputs": [],
      "source": [
        "# Evaluating the model\n",
        "y_pred = model.predict(X_test)\n",
        "print(\"Accuracy: \", accuracy_score(y_test, y_pred))\n",
        "print(\"Classification Report: \\n\", classification_report(y_test, y_pred))\n",
        "\n",
        "# Cross-validation\n",
        "scores = cross_val_score(model, X, y, cv=5)\n",
        "print(\"Cross-Validaded Accuracy: \", np.mean(scores))"
      ]
    },
    {
      "cell_type": "code",
      "execution_count": null,
      "metadata": {
        "id": "7WFSahYEKn9A"
      },
      "outputs": [],
      "source": [
        "# Handle outliers through IQR\n",
        "Q1 = df.quantile(0.25)    # Q1 is the first quartile (25º percentile) for each column\n",
        "Q3 = df.quantile(0.75)    # Q3 is third quartile (75º percentile) for each column\n",
        "IQR = Q3 - Q1             # IQR is the Interquartile range which is the difference between the third and first quartiles (the middle 50% of the data)\n",
        "\n",
        "# Filter outliers\n",
        "# The condidion check if there's value in the roll < Q1 - 1.5 * IQR or > Q3 + 1.5 * IQR and ~ inverts the selection and keeps rolls without outliers\n",
        "df = df[~((df < (Q1 - 1.5 * IQR)) | (df > (Q3 + 1.5 * IQR))).any(axis=1)]"
      ]
    },
    {
      "cell_type": "code",
      "execution_count": null,
      "metadata": {
        "id": "10cA5gg-Lby5"
      },
      "outputs": [],
      "source": [
        "df.head()"
      ]
    },
    {
      "cell_type": "code",
      "execution_count": null,
      "metadata": {
        "id": "9bN7G28jZIUn"
      },
      "outputs": [],
      "source": [
        "# prompt: Usando o DataFrame df: a bar graph correlating AGE and GENDER, you bust separate AGE in groups with an interval equal to 5\n",
        "\n",
        "import pandas as pd\n",
        "import matplotlib.pyplot as plt\n",
        "\n",
        "# Create age groups with an interval of 5\n",
        "df['Age_Group'] = pd.cut(df['AGE'], range(35, 90, 5))\n",
        "\n",
        "# Group data by age group and gender and count the number of people in each group\n",
        "age_gender_counts = df.groupby(['Age_Group', 'GENDER'])['GENDER'].count().unstack()\n",
        "\n",
        "# Create a bar plot\n",
        "age_gender_counts.plot(kind='bar', figsize=(12, 6))\n",
        "plt.title('Correlation between Age and Gender')\n",
        "plt.xlabel('Age Group')\n",
        "plt.ylabel('Number of People')\n",
        "plt.legend(['Female', 'Male'])\n",
        "plt.xticks(rotation=45, ha='right')  # Rotate x-axis labels for better readability\n",
        "plt.tight_layout()\n",
        "plt.show()"
      ]
    },
    {
      "cell_type": "code",
      "execution_count": null,
      "metadata": {
        "id": "ZO-VjYqTWiAx"
      },
      "outputs": [],
      "source": [
        "# Exclude GENDER, AGE, and LUNG_CANCER\n",
        "attributes = [col for col in df.columns if col not in ['GENDER', 'AGE', 'LUNG_CANCER']]\n",
        "\n",
        "# Create a figure and axes\n",
        "fig, ax = plt.subplots(figsize=(10, 6))\n",
        "\n",
        "# Loop through each attribute\n",
        "for i, attribute in enumerate(attributes):\n",
        "  # Calculate the percentage of 'YES' and 'NO' for the attribute\n",
        "  yes_percentage = (df[df[attribute] == 2].shape[0] / df.shape[0]) * 100\n",
        "  no_percentage = (df[df[attribute] == 1].shape[0] / df.shape[0]) * 100\n",
        "\n",
        "  # Create a bar graph for the attribute\n",
        "  ax.bar(i * 2, yes_percentage, color='blue', label='YES' if i == 0 else None)\n",
        "  ax.bar(i * 2 + 1, no_percentage, color='orange', label='NO' if i == 0 else None)\n",
        "\n",
        "\n",
        "ax.set_xlabel('Attributes')\n",
        "ax.set_ylabel('Percentage of Instances')\n",
        "ax.set_title('Attribute Distribution')\n",
        "\n",
        "# Set X-axis ticks and labels\n",
        "ax.set_xticks(np.arange(0, len(attributes) * 2, 2))\n",
        "ax.set_xticklabels(attributes, rotation=90)\n",
        "\n",
        "# Add legend\n",
        "ax.legend()\n",
        "\n",
        "# Display the plot\n",
        "plt.tight_layout()\n",
        "plt.show()"
      ]
    },
    {
      "cell_type": "code",
      "execution_count": null,
      "metadata": {
        "id": "30gl8xzYVpOx"
      },
      "outputs": [],
      "source": [
        "# @title Correlation Matrix of Lung Cancer Symptoms\n",
        "\n",
        "import matplotlib.pyplot as plt\n",
        "import seaborn as sns\n",
        "\n",
        "# Assuming your data is in a pandas DataFrame called 'df'\n",
        "symptoms = df[['COUGHING', 'SHORTNESS OF BREATH', 'CHEST PAIN', 'WHEEZING', 'FATIGUE ']]\n",
        "correlation_matrix = symptoms.corr()\n",
        "plt.figure(figsize=(10, 8))\n",
        "sns.heatmap(correlation_matrix, annot=True, cmap='coolwarm', fmt=\".2f\")\n",
        "_ = plt.title('Correlation Matrix of Lung Cancer Symptoms')"
      ]
    },
    {
      "cell_type": "code",
      "execution_count": null,
      "metadata": {
        "id": "rHXlODOLUtk2"
      },
      "outputs": [],
      "source": [
        "# @title Age Distribution by Lung Cancer Diagnosis\n",
        "\n",
        "import matplotlib.pyplot as plt\n",
        "\n",
        "age_lung_cancer_yes = df[df['LUNG_CANCER'] == 1]['AGE']\n",
        "age_lung_cancer_no = df[df['LUNG_CANCER'] == 0]['AGE']  # Assuming 0 represents no lung cancer\n",
        "\n",
        "plt.hist([age_lung_cancer_yes, age_lung_cancer_no], bins=10, label=['Lung Cancer', 'No Lung Cancer'], color=['light red', 'blue'])\n",
        "plt.xlabel('Age')\n",
        "plt.ylabel('Frequency')\n",
        "plt.title('Age Distribution by Lung Cancer Diagnosis')\n",
        "_ = plt.legend()"
      ]
    }
  ],
  "metadata": {
    "colab": {
      "provenance": []
    },
    "kernelspec": {
      "display_name": "Python 3 (ipykernel)",
      "language": "python",
      "name": "python3"
    },
    "language_info": {
      "codemirror_mode": {
        "name": "ipython",
        "version": 3
      },
      "file_extension": ".py",
      "mimetype": "text/x-python",
      "name": "python",
      "nbconvert_exporter": "python",
      "pygments_lexer": "ipython3",
      "version": "3.12.1"
    }
  },
  "nbformat": 4,
  "nbformat_minor": 0
}
